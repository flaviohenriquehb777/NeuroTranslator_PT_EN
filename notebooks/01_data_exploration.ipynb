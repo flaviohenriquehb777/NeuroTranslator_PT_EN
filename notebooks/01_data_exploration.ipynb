{
 "cells": [
  {
   "cell_type": "markdown",
   "metadata": {},
   "source": [
    "# 📊 Exploração de Dados - NeuroTranslator PT-EN\n",
    "\n",
    "Este notebook contém a análise exploratória dos datasets de tradução Português-Inglês que serão utilizados para treinar nossos modelos neurais.\n",
    "\n",
    "## Objetivos:\n",
    "- Carregar e analisar datasets paralelos PT-EN\n",
    "- Estatísticas descritivas dos textos\n",
    "- Análise de distribuição de comprimento\n",
    "- Identificação de padrões linguísticos\n",
    "- Preparação para pré-processamento"
   ]
  },
  {
   "cell_type": "code",
   "execution_count": null,
   "metadata": {},
   "outputs": [],
   "source": [
    "# Importações necessárias\n",
    "import pandas as pd\n",
    "import numpy as np\n",
    "import matplotlib.pyplot as plt\n",
    "import seaborn as sns\n",
    "from collections import Counter\n",
    "import nltk\n",
    "from nltk.tokenize import word_tokenize, sent_tokenize\n",
    "from nltk.corpus import stopwords\n",
    "import spacy\n",
    "from wordcloud import WordCloud\n",
    "import warnings\n",
    "warnings.filterwarnings('ignore')\n",
    "\n",
    "# Configurações de visualização\n",
    "plt.style.use('seaborn-v0_8')\n",
    "sns.set_palette(\"husl\")\n",
    "plt.rcParams['figure.figsize'] = (12, 8)\n",
    "\n",
    "print(\"✅ Bibliotecas importadas com sucesso!\")"
   ]
  },
  {
   "cell_type": "markdown",
   "metadata": {},
   "source": [
    "## 1. Carregamento dos Datasets\n",
    "\n",
    "Vamos carregar datasets públicos de tradução PT-EN disponíveis:"
   ]
  },
  {
   "cell_type": "code",
   "execution_count": null,
   "metadata": {},
   "outputs": [],
   "source": [
    "# Download de recursos NLTK necessários\n",
    "nltk.download('punkt')\n",
    "nltk.download('stopwords')\n",
    "nltk.download('averaged_perceptron_tagger')\n",
    "\n",
    "# Carregamento de modelos spaCy\n",
    "try:\n",
    "    nlp_pt = spacy.load('pt_core_news_sm')\n",
    "    nlp_en = spacy.load('en_core_web_sm')\n",
    "    print(\"✅ Modelos spaCy carregados com sucesso!\")\n",
    "except OSError:\n",
    "    print(\"⚠️ Modelos spaCy não encontrados. Execute:\")\n",
    "    print(\"python -m spacy download pt_core_news_sm\")\n",
    "    print(\"python -m spacy download en_core_web_sm\")"
   ]
  },
  {
   "cell_type": "code",
   "execution_count": null,
   "metadata": {},
   "outputs": [],
   "source": [
    "# Função para carregar datasets de tradução\n",
    "def load_translation_datasets():\n",
    "    \"\"\"\n",
    "    Carrega datasets de tradução PT-EN de fontes públicas\n",
    "    \"\"\"\n",
    "    datasets = {}\n",
    "    \n",
    "    # Dataset 1: OpenSubtitles (exemplo)\n",
    "    # Aqui você pode adicionar código para carregar datasets reais\n",
    "    \n",
    "    # Dataset sintético para demonstração\n",
    "    sample_data = {\n",
    "        'portuguese': [\n",
    "            \"Olá, como você está?\",\n",
    "            \"Eu gosto de programar em Python.\",\n",
    "            \"O tempo está muito bom hoje.\",\n",
    "            \"Vamos trabalhar juntos neste projeto.\",\n",
    "            \"A inteligência artificial é fascinante.\"\n",
    "        ],\n",
    "        'english': [\n",
    "            \"Hello, how are you?\",\n",
    "            \"I like programming in Python.\",\n",
    "            \"The weather is very nice today.\",\n",
    "            \"Let's work together on this project.\",\n",
    "            \"Artificial intelligence is fascinating.\"\n",
    "        ]\n",
    "    }\n",
    "    \n",
    "    datasets['sample'] = pd.DataFrame(sample_data)\n",
    "    \n",
    "    return datasets\n",
    "\n",
    "# Carregar datasets\n",
    "datasets = load_translation_datasets()\n",
    "print(f\"📊 Datasets carregados: {list(datasets.keys())}\")\n",
    "\n",
    "# Visualizar amostra\n",
    "sample_df = datasets['sample']\n",
    "print(f\"\\n📈 Tamanho do dataset de exemplo: {len(sample_df)} pares\")\n",
    "sample_df.head()"
   ]
  },
  {
   "cell_type": "markdown",
   "metadata": {},
   "source": [
    "## 2. Análise Estatística Básica"
   ]
  },
  {
   "cell_type": "code",
   "execution_count": null,
   "metadata": {},
   "outputs": [],
   "source": [
    "def analyze_text_statistics(df):\n",
    "    \"\"\"\n",
    "    Analisa estatísticas básicas dos textos\n",
    "    \"\"\"\n",
    "    stats = {}\n",
    "    \n",
    "    for lang in ['portuguese', 'english']:\n",
    "        texts = df[lang].astype(str)\n",
    "        \n",
    "        # Estatísticas de comprimento\n",
    "        char_lengths = texts.str.len()\n",
    "        word_counts = texts.str.split().str.len()\n",
    "        \n",
    "        stats[lang] = {\n",
    "            'total_sentences': len(texts),\n",
    "            'avg_char_length': char_lengths.mean(),\n",
    "            'avg_word_count': word_counts.mean(),\n",
    "            'max_char_length': char_lengths.max(),\n",
    "            'min_char_length': char_lengths.min(),\n",
    "            'std_char_length': char_lengths.std(),\n",
    "            'std_word_count': word_counts.std()\n",
    "        }\n",
    "    \n",
    "    return stats\n",
    "\n",
    "# Analisar estatísticas\n",
    "stats = analyze_text_statistics(sample_df)\n",
    "\n",
    "# Criar DataFrame para visualização\n",
    "stats_df = pd.DataFrame(stats).T\n",
    "print(\"📊 Estatísticas dos Textos:\")\n",
    "stats_df.round(2)"
   ]
  },
  {
   "cell_type": "markdown",
   "metadata": {},
   "source": [
    "## 3. Visualizações"
   ]
  },
  {
   "cell_type": "code",
   "execution_count": null,
   "metadata": {},
   "outputs": [],
   "source": [
    "# Gráfico de distribuição de comprimento\n",
    "fig, axes = plt.subplots(2, 2, figsize=(15, 10))\n",
    "\n",
    "# Comprimento em caracteres\n",
    "pt_chars = sample_df['portuguese'].str.len()\n",
    "en_chars = sample_df['english'].str.len()\n",
    "\n",
    "axes[0, 0].hist(pt_chars, bins=20, alpha=0.7, label='Português', color='blue')\n",
    "axes[0, 0].set_title('Distribuição - Caracteres (PT)')\n",
    "axes[0, 0].set_xlabel('Número de Caracteres')\n",
    "axes[0, 0].set_ylabel('Frequência')\n",
    "\n",
    "axes[0, 1].hist(en_chars, bins=20, alpha=0.7, label='Inglês', color='red')\n",
    "axes[0, 1].set_title('Distribuição - Caracteres (EN)')\n",
    "axes[0, 1].set_xlabel('Número de Caracteres')\n",
    "axes[0, 1].set_ylabel('Frequência')\n",
    "\n",
    "# Comprimento em palavras\n",
    "pt_words = sample_df['portuguese'].str.split().str.len()\n",
    "en_words = sample_df['english'].str.split().str.len()\n",
    "\n",
    "axes[1, 0].hist(pt_words, bins=20, alpha=0.7, label='Português', color='blue')\n",
    "axes[1, 0].set_title('Distribuição - Palavras (PT)')\n",
    "axes[1, 0].set_xlabel('Número de Palavras')\n",
    "axes[1, 0].set_ylabel('Frequência')\n",
    "\n",
    "axes[1, 1].hist(en_words, bins=20, alpha=0.7, label='Inglês', color='red')\n",
    "axes[1, 1].set_title('Distribuição - Palavras (EN)')\n",
    "axes[1, 1].set_xlabel('Número de Palavras')\n",
    "axes[1, 1].set_ylabel('Frequência')\n",
    "\n",
    "plt.tight_layout()\n",
    "plt.show()"
   ]
  },
  {
   "cell_type": "markdown",
   "metadata": {},
   "source": [
    "## 4. Análise de Vocabulário"
   ]
  },
  {
   "cell_type": "code",
   "execution_count": null,
   "metadata": {},
   "outputs": [],
   "source": [
    "def analyze_vocabulary(texts, language='portuguese'):\n",
    "    \"\"\"\n",
    "    Analisa o vocabulário dos textos\n",
    "    \"\"\"\n",
    "    # Tokenização\n",
    "    all_words = []\n",
    "    for text in texts:\n",
    "        words = word_tokenize(text.lower())\n",
    "        all_words.extend([word for word in words if word.isalpha()])\n",
    "    \n",
    "    # Estatísticas de vocabulário\n",
    "    vocab_stats = {\n",
    "        'total_words': len(all_words),\n",
    "        'unique_words': len(set(all_words)),\n",
    "        'vocabulary_richness': len(set(all_words)) / len(all_words) if all_words else 0\n",
    "    }\n",
    "    \n",
    "    # Palavras mais frequentes\n",
    "    word_freq = Counter(all_words)\n",
    "    most_common = word_freq.most_common(10)\n",
    "    \n",
    "    return vocab_stats, most_common, all_words\n",
    "\n",
    "# Analisar vocabulário português\n",
    "pt_vocab_stats, pt_common, pt_words = analyze_vocabulary(sample_df['portuguese'], 'portuguese')\n",
    "en_vocab_stats, en_common, en_words = analyze_vocabulary(sample_df['english'], 'english')\n",
    "\n",
    "print(\"🇧🇷 Estatísticas do Vocabulário Português:\")\n",
    "for key, value in pt_vocab_stats.items():\n",
    "    print(f\"  {key}: {value:.3f}\")\n",
    "\n",
    "print(\"\\n🇺🇸 Estatísticas do Vocabulário Inglês:\")\n",
    "for key, value in en_vocab_stats.items():\n",
    "    print(f\"  {key}: {value:.3f}\")\n",
    "\n",
    "print(\"\\n📝 Palavras mais comuns (PT):\", pt_common[:5])\n",
    "print(\"📝 Palavras mais comuns (EN):\", en_common[:5])"
   ]
  },
  {
   "cell_type": "markdown",
   "metadata": {},
   "source": [
    "## 5. Preparação para Modelagem"
   ]
  },
  {
   "cell_type": "code",
   "execution_count": null,
   "metadata": {},
   "outputs": [],
   "source": [
    "# Função de pré-processamento básico\n",
    "def preprocess_text(text):\n",
    "    \"\"\"\n",
    "    Pré-processamento básico do texto\n",
    "    \"\"\"\n",
    "    # Converter para minúsculas\n",
    "    text = text.lower()\n",
    "    \n",
    "    # Remover caracteres especiais (manter pontuação básica)\n",
    "    import re\n",
    "    text = re.sub(r'[^a-záàâãéêíóôõúç\\s.,!?]', '', text)\n",
    "    \n",
    "    # Normalizar espaços\n",
    "    text = re.sub(r'\\s+', ' ', text).strip()\n",
    "    \n",
    "    return text\n",
    "\n",
    "# Aplicar pré-processamento\n",
    "sample_df['portuguese_clean'] = sample_df['portuguese'].apply(preprocess_text)\n",
    "sample_df['english_clean'] = sample_df['english'].apply(preprocess_text)\n",
    "\n",
    "print(\"🧹 Exemplo de pré-processamento:\")\n",
    "print(\"Original (PT):\", sample_df['portuguese'].iloc[0])\n",
    "print(\"Limpo (PT):   \", sample_df['portuguese_clean'].iloc[0])\n",
    "print(\"\\nOriginal (EN):\", sample_df['english'].iloc[0])\n",
    "print(\"Limpo (EN):   \", sample_df['english_clean'].iloc[0])"
   ]
  },
  {
   "cell_type": "markdown",
   "metadata": {},
   "source": [
    "## 6. Salvamento dos Dados Processados"
   ]
  },
  {
   "cell_type": "code",
   "execution_count": null,
   "metadata": {},
   "outputs": [],
   "source": [
    "# Salvar dados processados\n",
    "output_path = '../data/processed_translation_data.csv'\n",
    "sample_df.to_csv(output_path, index=False, encoding='utf-8')\n",
    "\n",
    "print(f\"💾 Dados processados salvos em: {output_path}\")\n",
    "print(f\"📊 Total de pares de tradução: {len(sample_df)}\")\n",
    "\n",
    "# Resumo final\n",
    "print(\"\\n📋 Resumo da Exploração:\")\n",
    "print(f\"  • Dataset analisado com {len(sample_df)} pares PT-EN\")\n",
    "print(f\"  • Comprimento médio (PT): {sample_df['portuguese'].str.len().mean():.1f} caracteres\")\n",
    "print(f\"  • Comprimento médio (EN): {sample_df['english'].str.len().mean():.1f} caracteres\")\n",
    "print(f\"  • Vocabulário único (PT): {len(set(' '.join(sample_df['portuguese']).split()))} palavras\")\n",
    "print(f\"  • Vocabulário único (EN): {len(set(' '.join(sample_df['english']).split()))} palavras\")\n",
    "print(\"\\n✅ Exploração de dados concluída!\")"
   ]
  },
  {
   "cell_type": "markdown",
   "metadata": {},
   "source": [
    "## 📝 Próximos Passos\n",
    "\n",
    "1. **Coleta de Dados Reais**: Integrar datasets maiores como OpenSubtitles, OPUS, etc.\n",
    "2. **Análise Linguística Avançada**: POS tagging, análise sintática\n",
    "3. **Preparação para Treinamento**: Tokenização, criação de vocabulários\n",
    "4. **Augmentação de Dados**: Técnicas para aumentar o dataset\n",
    "5. **Validação Cruzada**: Divisão em treino/validação/teste\n",
    "\n",
    "---\n",
    "\n",
    "**Desenvolvido para o NeuroTranslator PT-EN** 🧠🔄🌐"
   ]
  }
 ],
 "metadata": {
  "kernelspec": {
   "display_name": "NeuroTranslator (Python 3.11)",
   "language": "python",
   "name": "neurotranslator_clean"
  },
  "language_info": {
   "codemirror_mode": {
    "name": "ipython",
    "version": 3
   },
   "file_extension": ".py",
   "mimetype": "text/x-python",
   "name": "python",
   "nbconvert_exporter": "python",
   "pygments_lexer": "ipython3",
   "version": "3.11.14"
  }
 },
 "nbformat": 4,
 "nbformat_minor": 4
}
